{
 "cells": [
  {
   "cell_type": "code",
   "execution_count": 93,
   "metadata": {},
   "outputs": [
    {
     "name": "stdout",
     "output_type": "stream",
     "text": [
      "The autoreload extension is already loaded. To reload it, use:\n",
      "  %reload_ext autoreload\n"
     ]
    }
   ],
   "source": [
    "%load_ext autoreload\n",
    "%autoreload 1\n",
    "import pandas as pd\n",
    "import matplotlib.pyplot as plt\n",
    "import plotly.plotly as py\n",
    "import plotly.graph_objs as go\n",
    "import pylab\n",
    "import plotly\n",
    "import numpy as np\n",
    "import scipy.stats as stats\n",
    "%aimport tools"
   ]
  },
  {
   "cell_type": "markdown",
   "metadata": {},
   "source": [
    "Useful Columns\n",
    "- "
   ]
  },
  {
   "cell_type": "code",
   "execution_count": 6,
   "metadata": {
    "collapsed": true
   },
   "outputs": [],
   "source": [
    "train = pd.read_csv('data/train.csv', index_col='id')"
   ]
  },
  {
   "cell_type": "code",
   "execution_count": 7,
   "metadata": {
    "collapsed": true
   },
   "outputs": [],
   "source": [
    "Y = train.target"
   ]
  },
  {
   "cell_type": "code",
   "execution_count": 8,
   "metadata": {
    "collapsed": true
   },
   "outputs": [],
   "source": [
    "X = train.drop('target', axis=1)"
   ]
  },
  {
   "cell_type": "code",
   "execution_count": 55,
   "metadata": {},
   "outputs": [
    {
     "data": {
      "image/png": "[encoded data removed]",
      "text/plain": [
       "<matplotlib.figure.Figure at 0x116a674a8>"
      ]
     },
     "metadata": {},
     "output_type": "display_data"
    }
   ],
   "source": [
    "train.ps_ind_01.hist(by=train.target, bins=8)\n",
    "plt.show()"
   ]
  },
  {
   "cell_type": "code",
   "execution_count": 95,
   "metadata": {},
   "outputs": [
    {
     "data": {
      "text/plain": [
       "Power_divergenceResult(statistic=0.01137966826138901, pvalue=0.99999999881072399)"
      ]
     },
     "execution_count": 95,
     "metadata": {},
     "output_type": "execute_result"
    }
   ],
   "source": [
    "tools.chisquaretest(train.ps_ind_01[train.target == 0].values, train.ps_ind_01[train.target == 1])"
   ]
  },
  {
   "cell_type": "code",
   "execution_count": 101,
   "metadata": {},
   "outputs": [
    {
     "data": {
      "image/png": "[encoded data removed]",
      "text/plain": [
       "<matplotlib.figure.Figure at 0x1167b0ef0>"
      ]
     },
     "metadata": {},
     "output_type": "display_data"
    },
    {
     "data": {
      "text/plain": [
       "Power_divergenceResult(statistic=0.0023375927193304579, pvalue=0.99999931748952664)"
      ]
     },
     "execution_count": 101,
     "metadata": {},
     "output_type": "execute_result"
    }
   ],
   "source": [
    "train.ps_ind_02_cat.hist(by=train.target)\n",
    "plt.show()\n",
    "tools.chisquaretest(data=train, target=train.ps_ind_02_cat, by=train.target)"
   ]
  },
  {
   "cell_type": "code",
   "execution_count": 103,
   "metadata": {},
   "outputs": [
    {
     "data": {
      "image/png": "[encoded data removed]",
      "text/plain": [
       "<matplotlib.figure.Figure at 0x1129b6860>"
      ]
     },
     "metadata": {},
     "output_type": "display_data"
    },
    {
     "data": {
      "text/plain": [
       "Power_divergenceResult(statistic=0.027074520976074615, pvalue=0.99999999999981837)"
      ]
     },
     "execution_count": 103,
     "metadata": {},
     "output_type": "execute_result"
    }
   ],
   "source": [
    "train.ps_ind_03.hist(by=train.target)\n",
    "plt.show()\n",
    "tools.chisquaretest(data=train, target=train.ps_ind_03, by=train.target)"
   ]
  },
  {
   "cell_type": "code",
   "execution_count": 56,
   "metadata": {},
   "outputs": [
    {
     "data": {
      "text/plain": [
       "id\n",
       "7          2\n",
       "9          1\n",
       "13         4\n",
       "16         1\n",
       "17         2\n",
       "19         1\n",
       "20         1\n",
       "22         1\n",
       "26         1\n",
       "28         1\n",
       "34         2\n",
       "35         1\n",
       "36         1\n",
       "43         1\n",
       "46         1\n",
       "48         1\n",
       "50         2\n",
       "58         1\n",
       "61         1\n",
       "64         1\n",
       "65         1\n",
       "66         1\n",
       "72         3\n",
       "74         1\n",
       "77         1\n",
       "78         1\n",
       "79         1\n",
       "80         1\n",
       "84         2\n",
       "85         2\n",
       "          ..\n",
       "1487945    1\n",
       "1487951    1\n",
       "1487952    1\n",
       "1487954    2\n",
       "1487957    1\n",
       "1487958    1\n",
       "1487962    1\n",
       "1487963    1\n",
       "1487964    2\n",
       "1487968    1\n",
       "1487973    1\n",
       "1487975    2\n",
       "1487976    1\n",
       "1487980    3\n",
       "1487983    1\n",
       "1487988    1\n",
       "1487990    1\n",
       "1487992    1\n",
       "1487994    1\n",
       "1487996    2\n",
       "1488001    1\n",
       "1488005    2\n",
       "1488008    2\n",
       "1488009    3\n",
       "1488011    1\n",
       "1488013    1\n",
       "1488016    1\n",
       "1488017    1\n",
       "1488021    2\n",
       "1488027    1\n",
       "Name: ps_ind_02_cat, Length: 595212, dtype: int64"
      ]
     },
     "execution_count": 56,
     "metadata": {},
     "output_type": "execute_result"
    }
   ],
   "source": [
    "train.ps_ind_02_cat"
   ]
  },
  {
   "cell_type": "code",
   "execution_count": 33,
   "metadata": {},
   "outputs": [
    {
     "data": {
      "text/plain": [
       "id\n",
       "7          2\n",
       "9          1\n",
       "13         5\n",
       "16         0\n",
       "17         0\n",
       "19         5\n",
       "20         2\n",
       "22         5\n",
       "26         5\n",
       "28         1\n",
       "34         5\n",
       "35         2\n",
       "36         2\n",
       "43         1\n",
       "46         5\n",
       "48         5\n",
       "50         1\n",
       "58         5\n",
       "61         5\n",
       "64         0\n",
       "65         0\n",
       "66         0\n",
       "72         5\n",
       "74         2\n",
       "77         0\n",
       "78         0\n",
       "79         0\n",
       "80         4\n",
       "84         0\n",
       "85         3\n",
       "          ..\n",
       "1487945    0\n",
       "1487951    1\n",
       "1487952    1\n",
       "1487954    0\n",
       "1487957    0\n",
       "1487958    0\n",
       "1487962    2\n",
       "1487963    3\n",
       "1487964    1\n",
       "1487968    5\n",
       "1487973    0\n",
       "1487975    0\n",
       "1487976    0\n",
       "1487980    0\n",
       "1487983    1\n",
       "1487988    1\n",
       "1487990    5\n",
       "1487992    3\n",
       "1487994    1\n",
       "1487996    0\n",
       "1488001    4\n",
       "1488005    3\n",
       "1488008    1\n",
       "1488009    0\n",
       "1488011    0\n",
       "1488013    3\n",
       "1488016    5\n",
       "1488017    1\n",
       "1488021    5\n",
       "1488027    0\n",
       "Name: ps_ind_01, Length: 595212, dtype: int64"
      ]
     },
     "execution_count": 33,
     "metadata": {},
     "output_type": "execute_result"
    }
   ],
   "source": [
    "train.ps_ind_01"
   ]
  },
  {
   "cell_type": "code",
   "execution_count": 61,
   "metadata": {},
   "outputs": [
    {
     "data": {
      "text/plain": [
       "Power_divergenceResult(statistic=0.0, pvalue=1.0)"
      ]
     },
     "execution_count": 61,
     "metadata": {},
     "output_type": "execute_result"
    }
   ],
   "source": [
    "stats.chisquare([2, 4, 6, 8], f_exp=[2, 4, 6, 8])"
   ]
  },
  {
   "cell_type": "code",
   "execution_count": 75,
   "metadata": {},
   "outputs": [
    {
     "ename": "AssertionError",
     "evalue": "wrong",
     "output_type": "error",
     "traceback": [
      "\u001b[0;31m---------------------------------------------------------------------------\u001b[0m",
      "\u001b[0;31mAssertionError\u001b[0m                            Traceback (most recent call last)",
      "\u001b[0;32m<ipython-input-75-ae27014566dd>\u001b[0m in \u001b[0;36m<module>\u001b[0;34m()\u001b[0m\n\u001b[1;32m      1\u001b[0m \u001b[0mt1\u001b[0m \u001b[0;34m=\u001b[0m \u001b[0;36m0\u001b[0m\u001b[0;34m\u001b[0m\u001b[0m\n\u001b[1;32m      2\u001b[0m \u001b[0mt2\u001b[0m \u001b[0;34m=\u001b[0m \u001b[0;36m1\u001b[0m\u001b[0;34m\u001b[0m\u001b[0m\n\u001b[0;32m----> 3\u001b[0;31m \u001b[0;32massert\u001b[0m \u001b[0mt1\u001b[0m\u001b[0;34m==\u001b[0m\u001b[0mt2\u001b[0m\u001b[0;34m,\u001b[0m \u001b[0;34m'wrong'\u001b[0m\u001b[0;34m\u001b[0m\u001b[0m\n\u001b[0m",
      "\u001b[0;31mAssertionError\u001b[0m: wrong"
     ]
    }
   ],
   "source": [
    "t1 = 0\n",
    "t2 = 1\n",
    "assert t1==t2, 'wrong'"
   ]
  },
  {
   "cell_type": "code",
   "execution_count": 79,
   "metadata": {},
   "outputs": [
    {
     "data": {
      "text/plain": [
       "True"
      ]
     },
     "execution_count": 79,
     "metadata": {},
     "output_type": "execute_result"
    }
   ],
   "source": [
    "data1 = np.array([0, 1, 2, 3])\n",
    "data2 = np.array([0, 1, 2, 3])\n",
    "np.all(data1==data2)"
   ]
  },
  {
   "cell_type": "code",
   "execution_count": null,
   "metadata": {
    "collapsed": true
   },
   "outputs": [],
   "source": []
  }
 ],
 "metadata": {
  "kernelspec": {
   "display_name": "Python [conda root]",
   "language": "python",
   "name": "conda-root-py"
  },
  "language_info": {
   "codemirror_mode": {
    "name": "ipython",
    "version": 3
   },
   "file_extension": ".py",
   "mimetype": "text/x-python",
   "name": "python",
   "nbconvert_exporter": "python",
   "pygments_lexer": "ipython3",
   "version": "3.5.3"
  }
 },
 "nbformat": 4,
 "nbformat_minor": 2
}
